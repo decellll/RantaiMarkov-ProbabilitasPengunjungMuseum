{
  "nbformat": 4,
  "nbformat_minor": 0,
  "metadata": {
    "colab": {
      "provenance": []
    },
    "kernelspec": {
      "name": "python3",
      "display_name": "Python 3"
    },
    "language_info": {
      "name": "python"
    }
  },
  "cells": [
    {
      "cell_type": "markdown",
      "source": [
        "**Studi kasus:**\n",
        "\n",
        "Misalkan:\n",
        "- Dari 100 pengunjung museum yang datang hari ini, 60 pengunjung juga datang besok.\n",
        "- Dari 100 pengunjung yang tidak datang hari ini, 20 pengunjung tetap tidak datang besok.\n",
        "\n",
        "**Tentukan:**\n",
        "1. Matriks Transisinya!\n",
        "2. Tentukan probabilitas kejadian yang akan datang untuk jangka panjang!\n",
        "3. Kondisi seimbang/stabil (Steady State)\n",
        "\n",
        "\n",
        "**Penyelesaian:**\n",
        "\n",
        "1. Probabilitas Pengunjung Datang Hari Ini dan Besok:\n",
        "- Dari 100 pengunjung yang datang hari ini, 60 pengunjung datang besok.\n",
        "- Probabilitas ini adalah 60 dari 100, yaitu 0,6.\n",
        "2. Probabilitas Pengunjung Datang Hari Ini tetapi Tidak Datang Besok:\n",
        "- Dari 100 pengunjung yang datang hari ini, 40 pengunjung tidak datang besok.\n",
        "- Probabilitas ini adalah 40 dari 100, yaitu 0,4.\n",
        "3. Probabilitas Pengunjung Tidak Datang Hari Ini dan Besok:\n",
        "- Dari 100 pengunjung yang tidak datang hari ini, 20 pengunjung juga tidak datang besok.\n",
        "- Probabilitas ini adalah 20 dari 100, yaitu 0,2.\n",
        "4. Probabilitas Pengunjung Tidak Datang Hari Ini tetapi Datang Besok:\n",
        "- Dari 100 pengunjung yang tidak datang hari ini, 80 pengunjung datang besok.\n",
        "- Probabilitas ini adalah 80 dari 100, yaitu 0,8.\n"
      ],
      "metadata": {
        "id": "SENWbgE8utBo"
      }
    },
    {
      "cell_type": "code",
      "execution_count": null,
      "metadata": {
        "id": "90lxER8muCbQ"
      },
      "outputs": [],
      "source": [
        "from numpy import *\n",
        "from matplotlib.pyplot import *\n",
        "from IPython.display import Math\n",
        "import sympy as sym\n",
        "from numpy.linalg import *\n"
      ]
    },
    {
      "cell_type": "markdown",
      "source": [
        "Setelah melakukan import library selanjutnya menampilkan matriks transisi yang\n",
        "berisi probabilitas transisi, dimana ini merupakan kondisi awal dari kejadian yang menjadi tolak ukur perhitungan."
      ],
      "metadata": {
        "id": "rr8F1Excvzfp"
      }
    },
    {
      "cell_type": "code",
      "source": [
        "# Aplikasi Model Rantai Markov 2\n",
        "# Pengunjung hari ini dan besok\n",
        "C = np.array([[60, 40], [80, 20]])\n",
        "print(\"Matriks C=\")\n",
        "display(Math(sym.latex(sym.simplify(C))))\n"
      ],
      "metadata": {
        "colab": {
          "base_uri": "https://localhost:8080/",
          "height": 75
        },
        "id": "WLKnU1Jqv2OQ",
        "outputId": "48779228-8457-46f9-e428-e5110f2f373a"
      },
      "execution_count": null,
      "outputs": [
        {
          "output_type": "stream",
          "name": "stdout",
          "text": [
            "Matriks C=\n"
          ]
        },
        {
          "output_type": "display_data",
          "data": {
            "text/plain": [
              "<IPython.core.display.Math object>"
            ],
            "text/latex": "$\\displaystyle \\left[\\begin{matrix}60 & 40\\\\80 & 20\\end{matrix}\\right]$"
          },
          "metadata": {}
        }
      ]
    },
    {
      "cell_type": "markdown",
      "source": [
        "Probabilitas pada baris pertama yaitu kondisi pengunjung hari ini."
      ],
      "metadata": {
        "id": "SvG34-WuwKID"
      }
    },
    {
      "cell_type": "code",
      "source": [
        "# Pengunjung hari ini dan besok\n",
        "C0 = np.array([60, 40])\n",
        "print(\"Matriks C0=\")\n",
        "display(Math(sym.latex(sym.simplify(C0))))\n"
      ],
      "metadata": {
        "colab": {
          "base_uri": "https://localhost:8080/",
          "height": 56
        },
        "id": "xAq7yhjlwM_h",
        "outputId": "9c61975b-472b-4337-f45b-2b8fe5da6d4e"
      },
      "execution_count": null,
      "outputs": [
        {
          "output_type": "stream",
          "name": "stdout",
          "text": [
            "Matriks C0=\n"
          ]
        },
        {
          "output_type": "display_data",
          "data": {
            "text/plain": [
              "<IPython.core.display.Math object>"
            ],
            "text/latex": "$\\displaystyle \\left[\\begin{matrix}60 & 40\\end{matrix}\\right]$"
          },
          "metadata": {}
        }
      ]
    },
    {
      "cell_type": "markdown",
      "source": [
        "Jika hari ini ada pengunjung maka didapatkan matriks transisi nya adalah\n",
        "\n",
        "[ 60 40 ]\n",
        "\n",
        "dan matriks transisi jika hari ini tidak ada pengunjung,\n",
        "\n",
        "[ 80 20 ]\n",
        "\n",
        "Sehingga peluang hari ketiga jika hari ini ada pengunjung akan ditampilkan pada hasil running python berikut.\n"
      ],
      "metadata": {
        "id": "spSxMNj2wh4w"
      }
    },
    {
      "cell_type": "code",
      "source": [
        "#Prediksi hari ke-3\n",
        "C1=dot(C0,C)\n",
        "print(\"matriks C1 = \")\n",
        "display(Math(sym.latex(sym.simplify(C1))))"
      ],
      "metadata": {
        "colab": {
          "base_uri": "https://localhost:8080/",
          "height": 56
        },
        "id": "azdkMiNfwsgA",
        "outputId": "075ac400-8844-49ce-8682-60733694643a"
      },
      "execution_count": null,
      "outputs": [
        {
          "output_type": "stream",
          "name": "stdout",
          "text": [
            "matriks C1 = \n"
          ]
        },
        {
          "output_type": "display_data",
          "data": {
            "text/plain": [
              "<IPython.core.display.Math object>"
            ],
            "text/latex": "$\\displaystyle \\left[\\begin{matrix}6800 & 3200\\end{matrix}\\right]$"
          },
          "metadata": {}
        }
      ]
    },
    {
      "cell_type": "markdown",
      "source": [
        "Peluang hari selanjutnya didapat dengan cara mengalikan matriks transisi baris\n",
        "dengan matriks transisi nya,\n",
        "\n",
        "[ 60 0,4 ] × [ 60 40 80 20 ]\n",
        "\n",
        "menghasilkan peluang cuaca hari ke-3 adalah [ 6800 3200 ].\n",
        "\n",
        "Proses perhitungan hari ke-4 juga sama dengan mengalikan matriks probabilitas hari\n",
        "ke-3 dengan matriks transisi nya,\n",
        "\n",
        "[ 6800 3200 ] × [ 60 40 80 20 ]\n",
        "\n",
        "menghasilkan peluang pengunjung hari ke-4 adalah [ 664000 336000 ]. Seperti yang\n",
        "ditampilkan pada hasil running dengan program pyhton berikut"
      ],
      "metadata": {
        "id": "swDp6y2Fx7Qb"
      }
    },
    {
      "cell_type": "code",
      "source": [
        "#Prediksi hari ke-4\n",
        "C_2=dot(C,C)\n",
        "print(\"matriks C2 = \")\n",
        "C2=dot(C0,C_2)\n",
        "display(Math(sym.latex(sym.simplify(C2))))"
      ],
      "metadata": {
        "colab": {
          "base_uri": "https://localhost:8080/",
          "height": 56
        },
        "id": "GD3au0iGyJFQ",
        "outputId": "d2e27395-3a59-4e9d-88fc-786b41c87e57"
      },
      "execution_count": null,
      "outputs": [
        {
          "output_type": "stream",
          "name": "stdout",
          "text": [
            "matriks C2 = \n"
          ]
        },
        {
          "output_type": "display_data",
          "data": {
            "text/plain": [
              "<IPython.core.display.Math object>"
            ],
            "text/latex": "$\\displaystyle \\left[\\begin{matrix}664000 & 336000\\end{matrix}\\right]$"
          },
          "metadata": {}
        }
      ]
    },
    {
      "cell_type": "markdown",
      "source": [
        "Karena peluang pengunjung pada hari berikutnya merupakan perkalian dari matriks\n",
        "probabilitas pada hari sebelumnya dengan matriks transisi nya maka untuk\n",
        "perhitungan peluang pengunjung hari ke-5 dilakukan hingga didapatkan hasil matriks\n",
        "probabilitas yang mirip."
      ],
      "metadata": {
        "id": "psjljLr2yuio"
      }
    },
    {
      "cell_type": "code",
      "source": [
        "#Prediksi hari ke-5\n",
        "C_3=dot(C_2,C)\n",
        "print(\"matriks C3 = \")\n",
        "C3=dot(C0,C_3)\n",
        "display(Math(sym.latex(sym.simplify(C3))))"
      ],
      "metadata": {
        "colab": {
          "base_uri": "https://localhost:8080/",
          "height": 56
        },
        "id": "KVtOGI6ByyP4",
        "outputId": "08d4c2e6-1ca5-496b-aeb5-6b83706884bf"
      },
      "execution_count": null,
      "outputs": [
        {
          "output_type": "stream",
          "name": "stdout",
          "text": [
            "matriks C3 = \n"
          ]
        },
        {
          "output_type": "display_data",
          "data": {
            "text/plain": [
              "<IPython.core.display.Math object>"
            ],
            "text/latex": "$\\displaystyle \\left[\\begin{matrix}66720000 & 33280000\\end{matrix}\\right]$"
          },
          "metadata": {}
        }
      ]
    },
    {
      "cell_type": "markdown",
      "source": [
        "Matriks peluang cuaca pada hari ke-5,\n"
      ],
      "metadata": {
        "id": "s-dJV4W7zFfO"
      }
    },
    {
      "cell_type": "code",
      "source": [
        "#Prediksi hari ke-6\n",
        "C_4=dot(C_3,C)\n",
        "print(\"matriks C4 = \")\n",
        "C4=dot(C0,C_4)\n",
        "display(Math(sym.latex(sym.simplify(C4))))"
      ],
      "metadata": {
        "colab": {
          "base_uri": "https://localhost:8080/",
          "height": 56
        },
        "id": "whS_l_2ozECW",
        "outputId": "e3afaa50-7db9-49f5-918a-1317af806850"
      },
      "execution_count": null,
      "outputs": [
        {
          "output_type": "stream",
          "name": "stdout",
          "text": [
            "matriks C4 = \n"
          ]
        },
        {
          "output_type": "display_data",
          "data": {
            "text/plain": [
              "<IPython.core.display.Math object>"
            ],
            "text/latex": "$\\displaystyle \\left[\\begin{matrix}6665600000 & 3334400000\\end{matrix}\\right]$"
          },
          "metadata": {}
        }
      ]
    },
    {
      "cell_type": "markdown",
      "source": [
        "Jika belum terlihat selisih matriks probabilitas pada hari sebelumnya maka dapat\n",
        "dilakukan perhitungan matriks probabilitas pada hari selanjutnya."
      ],
      "metadata": {
        "id": "jJd_-N3mzbN2"
      }
    },
    {
      "cell_type": "code",
      "source": [
        "#Prediksi hari ke-7\n",
        "C_5=dot(C_4,C)\n",
        "print(\"matriks C5 = \")\n",
        "C5=dot(C0,C_5)\n",
        "display(Math(sym.latex(sym.simplify(C5))))"
      ],
      "metadata": {
        "colab": {
          "base_uri": "https://localhost:8080/",
          "height": 56
        },
        "id": "nGZOgXOPzd_m",
        "outputId": "467e10ec-d03c-49ef-caed-59dbdd7c554a"
      },
      "execution_count": null,
      "outputs": [
        {
          "output_type": "stream",
          "name": "stdout",
          "text": [
            "matriks C5 = \n"
          ]
        },
        {
          "output_type": "display_data",
          "data": {
            "text/plain": [
              "<IPython.core.display.Math object>"
            ],
            "text/latex": "$\\displaystyle \\left[\\begin{matrix}666688000000 & 333312000000\\end{matrix}\\right]$"
          },
          "metadata": {}
        }
      ]
    },
    {
      "cell_type": "markdown",
      "source": [
        "Peluang cuaca hari ke-7"
      ],
      "metadata": {
        "id": "ys2NVN8_zwwX"
      }
    },
    {
      "cell_type": "code",
      "source": [
        "#Prediksi hari ke-8\n",
        "C_6=dot(C_5,C)\n",
        "print(\"matriks C6 = \")\n",
        "C6=dot(C0,C_6)\n",
        "display(Math(sym.latex(sym.simplify(C6))))"
      ],
      "metadata": {
        "colab": {
          "base_uri": "https://localhost:8080/",
          "height": 56
        },
        "id": "mkQ7FV8wzylW",
        "outputId": "9696f529-7e3e-464f-e1b1-c0d70f0e0150"
      },
      "execution_count": null,
      "outputs": [
        {
          "output_type": "stream",
          "name": "stdout",
          "text": [
            "matriks C6 = \n"
          ]
        },
        {
          "output_type": "display_data",
          "data": {
            "text/plain": [
              "<IPython.core.display.Math object>"
            ],
            "text/latex": "$\\displaystyle \\left[\\begin{matrix}66666240000000 & 33333760000000\\end{matrix}\\right]$"
          },
          "metadata": {}
        }
      ]
    },
    {
      "cell_type": "markdown",
      "source": [
        "Sebenarnya pada perhitungan matriks probabilitas pada hari ke-6 sudah terlihat adanya hasil yang stabil pada matriks [ 670 330 ], namun untuk lebih memperlihatkan polanya maka pada latihan ini dilakukan perhitungan dengan python hingga hari ke9."
      ],
      "metadata": {
        "id": "aIBihCix0Aoe"
      }
    },
    {
      "cell_type": "code",
      "source": [
        "#cek titik equilibrum (6665600000,3334400000)\n",
        "\n",
        "D=np.array([6665600000,3334400000])\n",
        "A=dot(D,C)\n",
        "display(Math(sym.latex(sym.simplify(A))))"
      ],
      "metadata": {
        "colab": {
          "base_uri": "https://localhost:8080/",
          "height": 38
        },
        "id": "Bd5unGEL0JWG",
        "outputId": "4f2fc217-a156-4dd0-908f-f928ac42a1bd"
      },
      "execution_count": null,
      "outputs": [
        {
          "output_type": "display_data",
          "data": {
            "text/plain": [
              "<IPython.core.display.Math object>"
            ],
            "text/latex": "$\\displaystyle \\left[\\begin{matrix}666688000000 & 333312000000\\end{matrix}\\right]$"
          },
          "metadata": {}
        }
      ]
    },
    {
      "cell_type": "markdown",
      "source": [
        "Dari perhitungan probabilitas jangka panjang di atas didapatkan bahwa kondisi\n",
        "seimbang/stabil (Steady State) dihasilkan pada saat probabilitasnya pada kondisi\n",
        "[ 6665600000,3334400000 ]. Untuk perhitungan saat kondisi hari ini tidak ada pengunjung dapat dilakukan simulasi mandiri untuk menghitung probabilitas jangka panjang dan kondisi seimbang/stabil nya"
      ],
      "metadata": {
        "id": "99C30AfZ0tdW"
      }
    },
    {
      "cell_type": "markdown",
      "source": [
        "**Referensi**\n",
        "\n",
        "Choirul Basir & Aden (2022) \"PRAKTIKUM PEMODELAN MATEMATIKA (Dengan PYTHON)\". Universitas Pamulang.\n"
      ],
      "metadata": {
        "id": "akBloEtY07G2"
      }
    }
  ]
}